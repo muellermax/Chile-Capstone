{
 "cells": [
  {
   "cell_type": "code",
   "execution_count": null,
   "metadata": {},
   "outputs": [],
   "source": [
    "# We have to add therefore more columns following the one hot encoding approach.\n",
    "# With the get_dummies method, we can create some dummy columns for the different health insurance systems: \n",
    "casen_rel_most = pd.concat([casen_rel_in, pd.get_dummies(casen_rel_in['s12'])], axis = 1).drop(['s12'], axis = 1)\n",
    "\n",
    "casen_rel_most.head()"
   ]
  },
  {
   "cell_type": "code",
   "execution_count": null,
   "metadata": {},
   "outputs": [],
   "source": [
    "### C. Show correlation between six selected CASEN social indicators and cases/deaths for most affected districts regarding Covid-19 cases \n",
    "\n",
    "# Now that we have the DataFrame with the prepared data (filled in the NaNs with o25a_min and one hot encoding for the health insurance system, we can call again the functions to show the correlations between those indicators and the Covid-19 cases/deaths in Chile. \n",
    "\n",
    "show_corr(cases_districts, casen_rel_most, 'cases', 10, 100).head()\n",
    "\n",
    "show_corr(deaths_districts, casen_rel_most, 'deaths', 10, 100).head()"
   ]
  },
  {
   "cell_type": "code",
   "execution_count": null,
   "metadata": {},
   "outputs": [],
   "source": [
    "# Save as csv\n",
    "\n",
    "corr_cases_most_csv = show_corr(cases_districts, casen_rel, 'cases', 10, 100)\n",
    "corr_cases_most_csv.to_csv('./Media/corr_cases_most.csv', header = True)\n",
    "\n",
    "deaths_districts_csv = show_corr(deaths_districts, casen_rel, 'deaths', 10, 100)\n",
    "deaths_districts_csv.to_csv('./Media/corr_deaths_most.csv', header = True)"
   ]
  },
  {
   "cell_type": "code",
   "execution_count": null,
   "metadata": {},
   "outputs": [],
   "source": [
    "# Lets look again at the selected indicators:  \n",
    "first_look([casen_rel_most])"
   ]
  },
  {
   "cell_type": "code",
   "execution_count": null,
   "metadata": {},
   "outputs": [],
   "source": [
    "casen_rel_most.drop(['comuna'], axis = 1).hist(figsize = (20, 15), bins = 25)"
   ]
  },
  {
   "cell_type": "code",
   "execution_count": null,
   "metadata": {},
   "outputs": [],
   "source": [
    "casen_rel_less = casen_rel[list_total_less]\n",
    "\n",
    "print(first_look([casen_rel_less]))"
   ]
  },
  {
   "cell_type": "code",
   "execution_count": null,
   "metadata": {},
   "outputs": [],
   "source": [
    "casen_rel_less.drop(['comuna'], axis = 1).hist(figsize = (20, 15), bins = 25)"
   ]
  },
  {
   "cell_type": "code",
   "execution_count": null,
   "metadata": {},
   "outputs": [],
   "source": [
    "# Select only 41 relevant indicators from the CASEN study, such as poverty, access to health institutions or\n",
    "# number of persons in household. \n",
    "\n",
    "casen_columns = ['region', 'provincia', 'comuna', 'e1', 'e6a', 'o1', 'o12', 'o16', 'o25a_min',\n",
    "                'o25c', 'o28', 'y21a', 'y22a', 'y24', 'y27a', 'ysub', 'ytot', 's12', 's13', 's14', \n",
    "                's26a', 's27a', 's28', 's31a1', 's33g1', 's33i1', 's33j1',\n",
    "                'r1a', 'r3', 'r8a', 'r8b', 'r16a', 'r16b', 'v33', 'v37a', 'v37c',\n",
    "                'v37i', 'v39b', 'pobreza', 'hh_d_prevs', 'hh_d_cot', 'hh_d_servbas', 'qaut', 'numper']\n",
    "\n",
    "casen_rel = casen#[casen_columns]"
   ]
  },
  {
   "cell_type": "code",
   "execution_count": null,
   "metadata": {},
   "outputs": [],
   "source": [
    "\n",
    "Erste Ideen: \n",
    "1. High correlation of v37i (distance to pharmacy): Because the main affected districts are located in Santiago => there is a pharmacy always close. \n",
    "\n",
    "CASES\n",
    "2. v39b (air contamination): Eher sinnvolle Korrelation\n",
    "3. Fonasa D: Eher sinnvolle Korrelation\n",
    "\n",
    "DEATHS\n",
    "1. numper\n",
    "2. v39b\n",
    "3. 1 and 7: Less mit Isapre, mehr mit FONASA"
   ]
  },
  {
   "cell_type": "code",
   "execution_count": null,
   "metadata": {},
   "outputs": [],
   "source": [
    "#### Data CASEN\n",
    "\n",
    "\n",
    "https://www.tablesgenerator.com/markdown_tables\n",
    "\n",
    "###### Educacion\n",
    "* e1: Sabe leer y escribir?\n",
    "* e6a: ¿Cuál fue el nivel educacional más alto alcanzado o el nivel educacional actual?\n",
    "\n",
    "##### Trabajo\n",
    "* o1: La semana pasada, ¿trabajó al menos una hora, sin considerar los quehaceres del hogar?\n",
    "* o12: ¿Su trabajo o negocio principal es de tipo:\n",
    "* o16: En su trabajo principal, ¿qué tipo de contrato o acuerdo de trabajo tiene?\n",
    "* o25a_min: En un día habitual, ¿cuánto tiempo en total tarda...? minutos\n",
    "* o25c: ¿Qué medio de transporte utiliza habitualmente para realizar este viaje?\n",
    "* o28: Se encuentra afiliado a algún sistema previsional (sistema de pensiones)?\n",
    "\n",
    "\n",
    "##### Ingresos\n",
    "* y21a: Participación núcleo familiar en Chile Solidario\n",
    "* Y22a. Mes pasado Bono de Protección Familiar CHP 16.634\n",
    "* y24.Mes pasado Subsidio de Agua Potable (Originales)\n",
    "* y27a. Cuenta de ahorro o depósito a plazo\n",
    "* ysub: Subsidios monetarios\n",
    "* ytot: Ingreso total\n",
    "\n",
    "\n",
    "\n",
    "##### Salud\n",
    "* s12. ¿A qué sistema previsional de salud pertenece usted?\n",
    "* s13. En una escala de 1 a 7, ¿Qué nota le pondría a su estado de salud actual?\n",
    "* s14. ¿Algún miembro de su núcleo se encuentra cubierto por un Seguro de Salud…?\n",
    "* s26a. ¿Cuántos Controles de Salud se realizó en los últimos 3 meses?\n",
    "* s27a. ¿Ha estado hospitalizado o se ha realizado alguna intervención quirúrgica?\n",
    "* s28. Durante los últimos 12 meses, ¿ha estado en tratamiento médico por..?\n",
    "* s31a1 ¿Tiene alguna de las siguientes condiciones permanentes? Cond. 1\n",
    "* s32c. ¿Cuánta dificultad tiene para Moverse/desplazarse dentro de la casa?\n",
    "* s33g1. ¿Cuánta dificultad tiene para Salir a la calle?\n",
    "* s33i1. ¿Cuánta dificultad tiene para Realizar sus tareas del hogar?\n",
    "* s33j1. ¿Cuánta dificultad tiene para Hacer o recibir llamadas?\n",
    "\n",
    "\n",
    "###### Red\n",
    "\n",
    "* r1a. ¿Cuál es la nacionalidad?\n",
    "* r3. Pueblos indígenas, ¿pertenece usted o es descendiente de alguno de ellos?\n",
    "* r7c. Pueda facilitar un vehículo si el hogar lo necesita\n",
    "* r8a. ¿Usted y otra persona en su hogar se preocupó por no tener suficientes alimentos para comer por falta de dinero u otros recursos?\n",
    "* r8b. ¿Alguna vez usted u otra persona en su hogar no pudo comer alimentos saludables y nutritivos por falta de dinero u otros recursos?\n",
    "* r16a. Su hogar, ¿tiene en uso y funcionamiento: Calefont (caldera eléctrica, calefacftor solar, calefón a gas)\n",
    "* r16b. Su hogar, ¿tiene en uso y funcionamiento: Teléfono fijo?\n",
    "\n",
    "\n",
    "##### Vivienda y entorno\n",
    "\n",
    "* v33. ¿Cuántos núcleos hay en este hogar?\n",
    "* v37a. ¿Menos de 8 cuadras o 1 Km de un servicio de transporte público…?\n",
    "* v37c. ¿A menos de 20 cuadras o 2,5 Km de un centro de salud…?\n",
    "* v37i. ¿A menos de 20 cuadras o 2,5 Km de una farmacia…?\n",
    "* v39b. ¿ha presenciado?: Contaminación del aire y/o malos olores\n",
    "\n",
    "\n",
    "##### Variables e Indicadores de Pobreza por Ingresos y Pobreza Multidimensional\n",
    "\n",
    "* pobreza: Situación de pobreza por ingresos\n",
    "* hh_d_prevs Hogar carente en adscripción a sistema de salud\n",
    "* hh_d_cot Hogar carente en seguridad social\n",
    "* hh_d_servbas Hogar carente en servicios básicos\n",
    "* qaut Quintil autónomo nacional\n",
    "* numper Número de personas en el hogar (excluye SDPA)\n",
    "\n",
    "\n",
    "##### Not included: \n",
    "\n",
    "* ??? e8: ¿En qué tipo de institución realizó su educación superior?\n",
    "* o15: En su trabajo o negocio principal, ¿usted trabaja como?\n",
    "* o17: En su trabajo principal, ¿tiene contrato de trabajo escrito?\n",
    "* o29: ¿Cotizó durante el mes pasado en algún sistema previsional..?\n",
    "* Ab Seite 140: Ingresos? \n",
    "* s1. ¿Cuál es el estado nutricional de niño(a)?\n",
    "* s5. ¿Qué edad tenía cuando nació su primer hijo?\n",
    "* s8. En los últimos tres años, ¿Se ha hecho el Papanicolau?\n",
    "* s10. En los últimos tres años, ¿Se ha hecho una mamografía?\n",
    "* s19b. ¿En qué establecimiento recibió Medicina General?\n",
    "* s26b_c1. ¿Qué tipo de control se realizó durante los últimos 3 meses? (Control 1)\n",
    "* r8d. ¿Alguna vez usted u otra persona en su hogar tuvo que dejar de desayunar, almorzar, tomar once o cenar porque no había suficiente dinero u otros recursos para obtener alimentos?\n",
    "* r9a. Discriminado por nivel socioeconómico\n",
    "* v12. ¿Cuántos metros cuadrados tiene la vivienda?"
   ]
  }
 ],
 "metadata": {
  "kernelspec": {
   "display_name": "Python 3",
   "language": "python",
   "name": "python3"
  },
  "language_info": {
   "codemirror_mode": {
    "name": "ipython",
    "version": 3
   },
   "file_extension": ".py",
   "mimetype": "text/x-python",
   "name": "python",
   "nbconvert_exporter": "python",
   "pygments_lexer": "ipython3",
   "version": "3.7.6"
  }
 },
 "nbformat": 4,
 "nbformat_minor": 2
}
