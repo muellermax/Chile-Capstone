{
 "cells": [
  {
   "cell_type": "code",
   "execution_count": null,
   "metadata": {},
   "outputs": [],
   "source": [
    "# We have to add therefore more columns following the one hot encoding approach.\n",
    "# With the get_dummies method, we can create some dummy columns for the different health insurance systems: \n",
    "casen_rel_most = pd.concat([casen_rel_in, pd.get_dummies(casen_rel_in['s12'])], axis = 1).drop(['s12'], axis = 1)\n",
    "\n",
    "casen_rel_most.head()"
   ]
  },
  {
   "cell_type": "code",
   "execution_count": null,
   "metadata": {},
   "outputs": [],
   "source": [
    "### C. Show correlation between six selected CASEN social indicators and cases/deaths for most affected districts regarding Covid-19 cases \n",
    "\n",
    "# Now that we have the DataFrame with the prepared data (filled in the NaNs with o25a_min and one hot encoding for the health insurance system, we can call again the functions to show the correlations between those indicators and the Covid-19 cases/deaths in Chile. \n",
    "\n",
    "show_corr(cases_districts, casen_rel_most, 'cases', 10, 100).head()\n",
    "\n",
    "show_corr(deaths_districts, casen_rel_most, 'deaths', 10, 100).head()"
   ]
  },
  {
   "cell_type": "code",
   "execution_count": null,
   "metadata": {},
   "outputs": [],
   "source": [
    "# Save as csv\n",
    "\n",
    "corr_cases_most_csv = show_corr(cases_districts, casen_rel, 'cases', 10, 100)\n",
    "corr_cases_most_csv.to_csv('./Media/corr_cases_most.csv', header = True)\n",
    "\n",
    "deaths_districts_csv = show_corr(deaths_districts, casen_rel, 'deaths', 10, 100)\n",
    "deaths_districts_csv.to_csv('./Media/corr_deaths_most.csv', header = True)"
   ]
  },
  {
   "cell_type": "code",
   "execution_count": null,
   "metadata": {},
   "outputs": [],
   "source": [
    "# Lets look again at the selected indicators:  \n",
    "first_look([casen_rel_most])"
   ]
  },
  {
   "cell_type": "code",
   "execution_count": null,
   "metadata": {},
   "outputs": [],
   "source": [
    "casen_rel_most.drop(['comuna'], axis = 1).hist(figsize = (20, 15), bins = 25)"
   ]
  },
  {
   "cell_type": "code",
   "execution_count": null,
   "metadata": {},
   "outputs": [],
   "source": [
    "casen_rel_less = casen_rel[list_total_less]\n",
    "\n",
    "print(first_look([casen_rel_less]))"
   ]
  },
  {
   "cell_type": "code",
   "execution_count": null,
   "metadata": {},
   "outputs": [],
   "source": [
    "casen_rel_less.drop(['comuna'], axis = 1).hist(figsize = (20, 15), bins = 25)"
   ]
  },
  {
   "cell_type": "code",
   "execution_count": null,
   "metadata": {},
   "outputs": [],
   "source": [
    "# Select only 41 relevant indicators from the CASEN study, such as poverty, access to health institutions or\n",
    "# number of persons in household. \n",
    "\n",
    "casen_columns = ['region', 'provincia', 'comuna', 'e1', 'e6a', 'o1', 'o12', 'o16', 'o25a_min',\n",
    "                'o25c', 'o28', 'y21a', 'y22a', 'y24', 'y27a', 'ysub', 'ytot', 's12', 's13', 's14', \n",
    "                's26a', 's27a', 's28', 's31a1', 's33g1', 's33i1', 's33j1',\n",
    "                'r1a', 'r3', 'r8a', 'r8b', 'r16a', 'r16b', 'v33', 'v37a', 'v37c',\n",
    "                'v37i', 'v39b', 'pobreza', 'hh_d_prevs', 'hh_d_cot', 'hh_d_servbas', 'qaut', 'numper']\n",
    "\n",
    "casen_rel = casen#[casen_columns]"
   ]
  }
 ],
 "metadata": {
  "kernelspec": {
   "display_name": "Python 3",
   "language": "python",
   "name": "python3"
  },
  "language_info": {
   "codemirror_mode": {
    "name": "ipython",
    "version": 3
   },
   "file_extension": ".py",
   "mimetype": "text/x-python",
   "name": "python",
   "nbconvert_exporter": "python",
   "pygments_lexer": "ipython3",
   "version": "3.7.3"
  }
 },
 "nbformat": 4,
 "nbformat_minor": 2
}
