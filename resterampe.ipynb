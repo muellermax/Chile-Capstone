{
 "cells": [
  {
   "cell_type": "code",
   "execution_count": null,
   "metadata": {},
   "outputs": [],
   "source": [
    "# We have to add therefore more columns following the one hot encoding approach.\n",
    "# With the get_dummies method, we can create some dummy columns for the different health insurance systems: \n",
    "casen_rel_most = pd.concat([casen_rel_in, pd.get_dummies(casen_rel_in['s12'])], axis = 1).drop(['s12'], axis = 1)\n",
    "\n",
    "casen_rel_most.head()"
   ]
  },
  {
   "cell_type": "code",
   "execution_count": null,
   "metadata": {},
   "outputs": [],
   "source": [
    "### C. Show correlation between six selected CASEN social indicators and cases/deaths for most affected districts regarding Covid-19 cases \n",
    "\n",
    "# Now that we have the DataFrame with the prepared data (filled in the NaNs with o25a_min and one hot encoding for the health insurance system, we can call again the functions to show the correlations between those indicators and the Covid-19 cases/deaths in Chile. \n",
    "\n",
    "show_corr(cases_districts, casen_rel_most, 'cases', 10, 100).head()\n",
    "\n",
    "show_corr(deaths_districts, casen_rel_most, 'deaths', 10, 100).head()"
   ]
  }
 ],
 "metadata": {
  "kernelspec": {
   "display_name": "Python 3",
   "language": "python",
   "name": "python3"
  },
  "language_info": {
   "codemirror_mode": {
    "name": "ipython",
    "version": 3
   },
   "file_extension": ".py",
   "mimetype": "text/x-python",
   "name": "python",
   "nbconvert_exporter": "python",
   "pygments_lexer": "ipython3",
   "version": "3.7.3"
  }
 },
 "nbformat": 4,
 "nbformat_minor": 2
}
